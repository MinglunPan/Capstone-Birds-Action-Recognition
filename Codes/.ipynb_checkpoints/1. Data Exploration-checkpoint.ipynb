{
 "cells": [
  {
   "cell_type": "code",
   "execution_count": 1,
   "id": "animal-jacob",
   "metadata": {},
   "outputs": [],
   "source": [
    "# !scontrol show nodes"
   ]
  },
  {
   "cell_type": "code",
   "execution_count": 2,
   "id": "quiet-flower",
   "metadata": {},
   "outputs": [
    {
     "data": {
      "text/plain": [
       "32"
      ]
     },
     "execution_count": 2,
     "metadata": {},
     "output_type": "execute_result"
    }
   ],
   "source": [
    "import sys\n",
    "import mkl\n",
    "mkl.set_num_threads(30)"
   ]
  },
  {
   "cell_type": "code",
   "execution_count": 3,
   "id": "choice-relative",
   "metadata": {},
   "outputs": [],
   "source": [
    "import os\n",
    "\n",
    "import numpy as np\n",
    "import pandas as pd\n",
    "\n",
    "import math\n",
    "\n",
    "import matplotlib.pyplot as plt\n",
    "import matplotlib.image as mpimg\n",
    "import seaborn as sns\n",
    "import pyglet\n",
    "import image\n",
    "import imageio\n",
    "import IPython\n",
    "\n",
    "from config import IMG_HEIGHT, IMG_WIDTH, NUM_CHANNEL, OBJ_LIST, ACT_LIST, DATA_DIR\n",
    "from utils import getImagePath\n",
    "import dataset"
   ]
  },
  {
   "cell_type": "markdown",
   "id": "selected-senator",
   "metadata": {},
   "source": [
    "# A. Data Exploration"
   ]
  },
  {
   "cell_type": "code",
   "execution_count": 4,
   "id": "japanese-wagner",
   "metadata": {},
   "outputs": [
    {
     "data": {
      "text/plain": [
       "(979516, 39)"
      ]
     },
     "execution_count": 4,
     "metadata": {},
     "output_type": "execute_result"
    }
   ],
   "source": [
    "images_metadata_df = dataset.load_images_metadata()\n",
    "images_metadata_df.shape"
   ]
  },
  {
   "cell_type": "code",
   "execution_count": 5,
   "id": "requested-perry",
   "metadata": {},
   "outputs": [
    {
     "data": {
      "text/plain": [
       "Index(['day_dir', 'camera_dir', 'video_dir', 'track_dir', 'directory_x',\n",
       "       'image_file', 'count', 'frame', 'x', 'y', 'speed', 'area', 'id',\n",
       "       'directory_y', 'bird', 'cable', 'panel', 'plant', 'car', 'human',\n",
       "       'other_animal', 'insect', 'aircraft', 'other', 'unknown',\n",
       "       'fly_over_above', 'fly_over_reflection', 'fly_through',\n",
       "       'perch_on_panel', 'land_on_ground', 'perch_in_background', 'collision',\n",
       "       'uncertain', 'image_count', 'obj_id', 'obj_cat', 'obj_cat_binary',\n",
       "       'activity_cat', 'ttv_split'],\n",
       "      dtype='object')"
      ]
     },
     "execution_count": 5,
     "metadata": {},
     "output_type": "execute_result"
    }
   ],
   "source": [
    "images_metadata_df.columns"
   ]
  },
  {
   "cell_type": "markdown",
   "id": "diagnostic-louisiana",
   "metadata": {},
   "source": [
    "## 1. Summary"
   ]
  },
  {
   "cell_type": "markdown",
   "id": "overall-uganda",
   "metadata": {},
   "source": [
    "Primary Key: **obj_id**"
   ]
  },
  {
   "cell_type": "code",
   "execution_count": 5,
   "id": "ignored-vegetarian",
   "metadata": {},
   "outputs": [],
   "source": [
    "value_count = images_metadata_df.groupby('obj_id').agg({col:'nunique' for col in images_metadata_df.columns if col != 'obj_id'})\n",
    "\n",
    "obj_id_records_with_more_than_one_cat = images_metadata_df.loc[images_metadata_df[OBJ_LIST].sum(axis = 1) != 1].obj_id\n",
    "obj_id_records_with_more_than_one_act = images_metadata_df.loc[images_metadata_df[ACT_LIST].sum(axis = 1) != 1].obj_id"
   ]
  },
  {
   "cell_type": "code",
   "execution_count": 6,
   "id": "coated-teacher",
   "metadata": {},
   "outputs": [
    {
     "data": {
      "text/plain": [
       "Index(['image_file', 'frame', 'x', 'y', 'speed', 'area'], dtype='object')"
      ]
     },
     "execution_count": 6,
     "metadata": {},
     "output_type": "execute_result"
    }
   ],
   "source": [
    "value_count.columns[value_count.max() > 1]"
   ]
  },
  {
   "cell_type": "code",
   "execution_count": 7,
   "id": "still-repeat",
   "metadata": {},
   "outputs": [
    {
     "data": {
      "text/plain": [
       "Index(['day_dir', 'camera_dir', 'video_dir', 'track_dir', 'directory_x',\n",
       "       'count', 'id', 'directory_y', 'bird', 'cable', 'panel', 'plant', 'car',\n",
       "       'human', 'other_animal', 'insect', 'aircraft', 'other', 'unknown',\n",
       "       'fly_over_above', 'fly_over_reflection', 'fly_through',\n",
       "       'perch_on_panel', 'land_on_ground', 'perch_in_background', 'collision',\n",
       "       'uncertain', 'image_count', 'obj_cat', 'obj_cat_binary', 'activity_cat',\n",
       "       'ttv_split'],\n",
       "      dtype='object')"
      ]
     },
     "execution_count": 7,
     "metadata": {},
     "output_type": "execute_result"
    }
   ],
   "source": [
    "value_count.columns[value_count.max() == 1]"
   ]
  },
  {
   "cell_type": "code",
   "execution_count": 8,
   "id": "hydraulic-grace",
   "metadata": {},
   "outputs": [
    {
     "name": "stdout",
     "output_type": "stream",
     "text": [
      "day_dir : ['2019-06-21-bldg-372', '2019-06-25-bldg-372', '2019-06-26-bldg-372', '2019-06-28-bldg-372', '2019-06-29-bldg-372', '2019-07-02-bldg-372', '2019-07-05-bldg-372', '2019-07-09-bldg-372', '2019-07-10-bldg-372', '2019-07-15-exelon'] \n",
      "\n",
      "camera_dir : ['dnncam1', 'dnncam2', 'dnncame', 'dnncam209', 'dnncam491', 'dnncam489', 'dnncam14-01', 'dnncam14-03', 'dnncam14'] \n",
      "\n",
      "video_dir : ['video-2019_06_21_14_10_01', 'video-2019_06_21_14_15_01', 'video-2019_06_21_14_20_01', 'video-00000-2019_06_25_09_08_31', 'video-00001-2019_06_25_09_08_31', 'video-00002-2019_06_25_09_08_31', 'video-00003-2019_06_25_09_08_31', 'video-00004-2019_06_25_09_08_31', 'video-00005-2019_06_25_09_08_31', 'video-00006-2019_06_25_09_08_31'] \n",
      "\n",
      "track_dir : [104, 288, 314, 322, 344, 402, 420, 456, 524, 567] \n",
      "\n",
      "directory_x : ['/video-2019_06_21_14_10_01/104', '/video-2019_06_21_14_10_01/288', '/video-2019_06_21_14_10_01/314', '/video-2019_06_21_14_10_01/322', '/video-2019_06_21_14_10_01/344', '/video-2019_06_21_14_10_01/402', '/video-2019_06_21_14_10_01/420', '/video-2019_06_21_14_10_01/456', '/video-2019_06_21_14_10_01/524', '/video-2019_06_21_14_10_01/567'] \n",
      "\n",
      "directory_y : ['/video-2019_06_21_14_10_01/104', '/video-2019_06_21_14_10_01/288', '/video-2019_06_21_14_10_01/314', '/video-2019_06_21_14_10_01/322', '/video-2019_06_21_14_10_01/344', '/video-2019_06_21_14_10_01/402', '/video-2019_06_21_14_10_01/420', '/video-2019_06_21_14_10_01/456', '/video-2019_06_21_14_10_01/524', '/video-2019_06_21_14_10_01/567'] \n",
      "\n"
     ]
    }
   ],
   "source": [
    "for c in images_metadata_df.columns:\n",
    "    if 'dir' in c:\n",
    "        print(c, \":\", list(images_metadata_df[c].unique())[:10],'\\n')"
   ]
  },
  {
   "cell_type": "code",
   "execution_count": 9,
   "id": "knowing-companion",
   "metadata": {},
   "outputs": [
    {
     "name": "stdout",
     "output_type": "stream",
     "text": [
      "\n",
      "# records: 49255\n",
      "# days: 27\n",
      "# types of cameras: 9\n",
      "# num. object categories: 11\n",
      "# num. activity categories: 8\n",
      "# frames: 979516\n",
      "\n",
      "# avg. frames: 19.886630798903663\n",
      "# min. frames: 12.0\n",
      "# 25%. frames: 9.0\n",
      "# med. frames: 12.0\n",
      "# 50%. frames: 12.0\n",
      "# 75%. frames: 19.0\n",
      "# max. frames: 1088\n",
      "\n"
     ]
    }
   ],
   "source": [
    "summary = f\"\"\"\n",
    "# records: {len(value_count)}\n",
    "# days: {len(images_metadata_df['day_dir'].unique())}\n",
    "# types of cameras: {len(images_metadata_df['camera_dir'].unique())}\n",
    "# num. object categories: {len(images_metadata_df.obj_cat.unique())}\n",
    "# num. activity categories: {len(images_metadata_df.activity_cat.unique())}\n",
    "# frames: {sum(value_count.image_file)}\n",
    "\n",
    "# avg. frames: {np.mean(value_count.image_file)}\n",
    "# min. frames: {np.median(value_count.image_file)}\n",
    "# 25%. frames: {np.quantile(value_count.image_file, q = 0.25)}\n",
    "# med. frames: {np.median(value_count.image_file)}\n",
    "# 50%. frames: {np.median(value_count.image_file)}\n",
    "# 75%. frames: {np.quantile(value_count.image_file, q = 0.75)}\n",
    "# max. frames: {np.max(value_count.image_file)}\n",
    "\"\"\"\n",
    "print(summary)"
   ]
  },
  {
   "cell_type": "code",
   "execution_count": 10,
   "id": "uniform-oxide",
   "metadata": {},
   "outputs": [
    {
     "data": {
      "text/html": [
       "<div>\n",
       "<style scoped>\n",
       "    .dataframe tbody tr th:only-of-type {\n",
       "        vertical-align: middle;\n",
       "    }\n",
       "\n",
       "    .dataframe tbody tr th {\n",
       "        vertical-align: top;\n",
       "    }\n",
       "\n",
       "    .dataframe thead th {\n",
       "        text-align: right;\n",
       "    }\n",
       "</style>\n",
       "<table border=\"1\" class=\"dataframe\">\n",
       "  <thead>\n",
       "    <tr style=\"text-align: right;\">\n",
       "      <th></th>\n",
       "      <th>fly_over_above</th>\n",
       "      <th>fly_over_reflection</th>\n",
       "      <th>fly_through</th>\n",
       "      <th>perch_on_panel</th>\n",
       "      <th>land_on_ground</th>\n",
       "      <th>perch_in_background</th>\n",
       "      <th>collision</th>\n",
       "      <th>uncertain</th>\n",
       "    </tr>\n",
       "    <tr>\n",
       "      <th>activity_cat</th>\n",
       "      <th></th>\n",
       "      <th></th>\n",
       "      <th></th>\n",
       "      <th></th>\n",
       "      <th></th>\n",
       "      <th></th>\n",
       "      <th></th>\n",
       "      <th></th>\n",
       "    </tr>\n",
       "  </thead>\n",
       "  <tbody>\n",
       "    <tr>\n",
       "      <th>0</th>\n",
       "      <td>0</td>\n",
       "      <td>0</td>\n",
       "      <td>0</td>\n",
       "      <td>0</td>\n",
       "      <td>0</td>\n",
       "      <td>0</td>\n",
       "      <td>0</td>\n",
       "      <td>41693</td>\n",
       "    </tr>\n",
       "    <tr>\n",
       "      <th>1</th>\n",
       "      <td>264285</td>\n",
       "      <td>0</td>\n",
       "      <td>0</td>\n",
       "      <td>0</td>\n",
       "      <td>0</td>\n",
       "      <td>8</td>\n",
       "      <td>0</td>\n",
       "      <td>5532</td>\n",
       "    </tr>\n",
       "    <tr>\n",
       "      <th>2</th>\n",
       "      <td>0</td>\n",
       "      <td>19539</td>\n",
       "      <td>0</td>\n",
       "      <td>31</td>\n",
       "      <td>0</td>\n",
       "      <td>0</td>\n",
       "      <td>10</td>\n",
       "      <td>2877</td>\n",
       "    </tr>\n",
       "    <tr>\n",
       "      <th>3</th>\n",
       "      <td>0</td>\n",
       "      <td>0</td>\n",
       "      <td>116053</td>\n",
       "      <td>0</td>\n",
       "      <td>0</td>\n",
       "      <td>0</td>\n",
       "      <td>144</td>\n",
       "      <td>31966</td>\n",
       "    </tr>\n",
       "    <tr>\n",
       "      <th>4</th>\n",
       "      <td>0</td>\n",
       "      <td>0</td>\n",
       "      <td>0</td>\n",
       "      <td>20950</td>\n",
       "      <td>0</td>\n",
       "      <td>0</td>\n",
       "      <td>0</td>\n",
       "      <td>863</td>\n",
       "    </tr>\n",
       "    <tr>\n",
       "      <th>5</th>\n",
       "      <td>0</td>\n",
       "      <td>0</td>\n",
       "      <td>0</td>\n",
       "      <td>0</td>\n",
       "      <td>10038</td>\n",
       "      <td>0</td>\n",
       "      <td>0</td>\n",
       "      <td>1114</td>\n",
       "    </tr>\n",
       "    <tr>\n",
       "      <th>6</th>\n",
       "      <td>0</td>\n",
       "      <td>0</td>\n",
       "      <td>0</td>\n",
       "      <td>0</td>\n",
       "      <td>0</td>\n",
       "      <td>25852</td>\n",
       "      <td>0</td>\n",
       "      <td>773</td>\n",
       "    </tr>\n",
       "    <tr>\n",
       "      <th>7</th>\n",
       "      <td>0</td>\n",
       "      <td>0</td>\n",
       "      <td>0</td>\n",
       "      <td>0</td>\n",
       "      <td>0</td>\n",
       "      <td>0</td>\n",
       "      <td>3935</td>\n",
       "      <td>1086</td>\n",
       "    </tr>\n",
       "  </tbody>\n",
       "</table>\n",
       "</div>"
      ],
      "text/plain": [
       "              fly_over_above  fly_over_reflection  fly_through  \\\n",
       "activity_cat                                                     \n",
       "0                          0                    0            0   \n",
       "1                     264285                    0            0   \n",
       "2                          0                19539            0   \n",
       "3                          0                    0       116053   \n",
       "4                          0                    0            0   \n",
       "5                          0                    0            0   \n",
       "6                          0                    0            0   \n",
       "7                          0                    0            0   \n",
       "\n",
       "              perch_on_panel  land_on_ground  perch_in_background  collision  \\\n",
       "activity_cat                                                                   \n",
       "0                          0               0                    0          0   \n",
       "1                          0               0                    8          0   \n",
       "2                         31               0                    0         10   \n",
       "3                          0               0                    0        144   \n",
       "4                      20950               0                    0          0   \n",
       "5                          0           10038                    0          0   \n",
       "6                          0               0                25852          0   \n",
       "7                          0               0                    0       3935   \n",
       "\n",
       "              uncertain  \n",
       "activity_cat             \n",
       "0                 41693  \n",
       "1                  5532  \n",
       "2                  2877  \n",
       "3                 31966  \n",
       "4                   863  \n",
       "5                  1114  \n",
       "6                   773  \n",
       "7                  1086  "
      ]
     },
     "execution_count": 10,
     "metadata": {},
     "output_type": "execute_result"
    }
   ],
   "source": [
    "images_metadata_df.groupby('activity_cat')[ACT_LIST].sum() # w.r.t frames"
   ]
  },
  {
   "cell_type": "code",
   "execution_count": 11,
   "id": "sunset-garden",
   "metadata": {},
   "outputs": [
    {
     "data": {
      "text/html": [
       "<div>\n",
       "<style scoped>\n",
       "    .dataframe tbody tr th:only-of-type {\n",
       "        vertical-align: middle;\n",
       "    }\n",
       "\n",
       "    .dataframe tbody tr th {\n",
       "        vertical-align: top;\n",
       "    }\n",
       "\n",
       "    .dataframe thead th {\n",
       "        text-align: right;\n",
       "    }\n",
       "</style>\n",
       "<table border=\"1\" class=\"dataframe\">\n",
       "  <thead>\n",
       "    <tr style=\"text-align: right;\">\n",
       "      <th></th>\n",
       "      <th>bird</th>\n",
       "      <th>cable</th>\n",
       "      <th>panel</th>\n",
       "      <th>plant</th>\n",
       "      <th>car</th>\n",
       "      <th>human</th>\n",
       "      <th>other_animal</th>\n",
       "      <th>insect</th>\n",
       "      <th>aircraft</th>\n",
       "      <th>other</th>\n",
       "      <th>unknown</th>\n",
       "    </tr>\n",
       "    <tr>\n",
       "      <th>obj_cat</th>\n",
       "      <th></th>\n",
       "      <th></th>\n",
       "      <th></th>\n",
       "      <th></th>\n",
       "      <th></th>\n",
       "      <th></th>\n",
       "      <th></th>\n",
       "      <th></th>\n",
       "      <th></th>\n",
       "      <th></th>\n",
       "      <th></th>\n",
       "    </tr>\n",
       "  </thead>\n",
       "  <tbody>\n",
       "    <tr>\n",
       "      <th>1</th>\n",
       "      <td>460817</td>\n",
       "      <td>0</td>\n",
       "      <td>0</td>\n",
       "      <td>0</td>\n",
       "      <td>8</td>\n",
       "      <td>0</td>\n",
       "      <td>0</td>\n",
       "      <td>78</td>\n",
       "      <td>0</td>\n",
       "      <td>62</td>\n",
       "      <td>132</td>\n",
       "    </tr>\n",
       "    <tr>\n",
       "      <th>2</th>\n",
       "      <td>0</td>\n",
       "      <td>46586</td>\n",
       "      <td>0</td>\n",
       "      <td>0</td>\n",
       "      <td>0</td>\n",
       "      <td>0</td>\n",
       "      <td>0</td>\n",
       "      <td>0</td>\n",
       "      <td>0</td>\n",
       "      <td>9</td>\n",
       "      <td>28</td>\n",
       "    </tr>\n",
       "    <tr>\n",
       "      <th>3</th>\n",
       "      <td>0</td>\n",
       "      <td>0</td>\n",
       "      <td>35400</td>\n",
       "      <td>0</td>\n",
       "      <td>51</td>\n",
       "      <td>0</td>\n",
       "      <td>0</td>\n",
       "      <td>0</td>\n",
       "      <td>0</td>\n",
       "      <td>0</td>\n",
       "      <td>11</td>\n",
       "    </tr>\n",
       "    <tr>\n",
       "      <th>4</th>\n",
       "      <td>0</td>\n",
       "      <td>0</td>\n",
       "      <td>0</td>\n",
       "      <td>78949</td>\n",
       "      <td>0</td>\n",
       "      <td>0</td>\n",
       "      <td>0</td>\n",
       "      <td>0</td>\n",
       "      <td>0</td>\n",
       "      <td>29</td>\n",
       "      <td>17</td>\n",
       "    </tr>\n",
       "    <tr>\n",
       "      <th>5</th>\n",
       "      <td>0</td>\n",
       "      <td>0</td>\n",
       "      <td>0</td>\n",
       "      <td>0</td>\n",
       "      <td>204104</td>\n",
       "      <td>0</td>\n",
       "      <td>0</td>\n",
       "      <td>0</td>\n",
       "      <td>0</td>\n",
       "      <td>17</td>\n",
       "      <td>14</td>\n",
       "    </tr>\n",
       "    <tr>\n",
       "      <th>6</th>\n",
       "      <td>0</td>\n",
       "      <td>0</td>\n",
       "      <td>0</td>\n",
       "      <td>0</td>\n",
       "      <td>0</td>\n",
       "      <td>44456</td>\n",
       "      <td>0</td>\n",
       "      <td>0</td>\n",
       "      <td>0</td>\n",
       "      <td>0</td>\n",
       "      <td>25</td>\n",
       "    </tr>\n",
       "    <tr>\n",
       "      <th>7</th>\n",
       "      <td>0</td>\n",
       "      <td>0</td>\n",
       "      <td>0</td>\n",
       "      <td>0</td>\n",
       "      <td>0</td>\n",
       "      <td>0</td>\n",
       "      <td>1466</td>\n",
       "      <td>0</td>\n",
       "      <td>0</td>\n",
       "      <td>0</td>\n",
       "      <td>0</td>\n",
       "    </tr>\n",
       "    <tr>\n",
       "      <th>8</th>\n",
       "      <td>0</td>\n",
       "      <td>0</td>\n",
       "      <td>0</td>\n",
       "      <td>0</td>\n",
       "      <td>0</td>\n",
       "      <td>0</td>\n",
       "      <td>0</td>\n",
       "      <td>25892</td>\n",
       "      <td>0</td>\n",
       "      <td>0</td>\n",
       "      <td>0</td>\n",
       "    </tr>\n",
       "    <tr>\n",
       "      <th>9</th>\n",
       "      <td>0</td>\n",
       "      <td>0</td>\n",
       "      <td>0</td>\n",
       "      <td>0</td>\n",
       "      <td>0</td>\n",
       "      <td>0</td>\n",
       "      <td>0</td>\n",
       "      <td>0</td>\n",
       "      <td>19866</td>\n",
       "      <td>0</td>\n",
       "      <td>0</td>\n",
       "    </tr>\n",
       "    <tr>\n",
       "      <th>10</th>\n",
       "      <td>0</td>\n",
       "      <td>0</td>\n",
       "      <td>0</td>\n",
       "      <td>0</td>\n",
       "      <td>0</td>\n",
       "      <td>0</td>\n",
       "      <td>0</td>\n",
       "      <td>0</td>\n",
       "      <td>0</td>\n",
       "      <td>27589</td>\n",
       "      <td>0</td>\n",
       "    </tr>\n",
       "    <tr>\n",
       "      <th>11</th>\n",
       "      <td>0</td>\n",
       "      <td>0</td>\n",
       "      <td>0</td>\n",
       "      <td>0</td>\n",
       "      <td>0</td>\n",
       "      <td>0</td>\n",
       "      <td>0</td>\n",
       "      <td>0</td>\n",
       "      <td>0</td>\n",
       "      <td>0</td>\n",
       "      <td>34391</td>\n",
       "    </tr>\n",
       "  </tbody>\n",
       "</table>\n",
       "</div>"
      ],
      "text/plain": [
       "           bird  cable  panel  plant     car  human  other_animal  insect  \\\n",
       "obj_cat                                                                     \n",
       "1        460817      0      0      0       8      0             0      78   \n",
       "2             0  46586      0      0       0      0             0       0   \n",
       "3             0      0  35400      0      51      0             0       0   \n",
       "4             0      0      0  78949       0      0             0       0   \n",
       "5             0      0      0      0  204104      0             0       0   \n",
       "6             0      0      0      0       0  44456             0       0   \n",
       "7             0      0      0      0       0      0          1466       0   \n",
       "8             0      0      0      0       0      0             0   25892   \n",
       "9             0      0      0      0       0      0             0       0   \n",
       "10            0      0      0      0       0      0             0       0   \n",
       "11            0      0      0      0       0      0             0       0   \n",
       "\n",
       "         aircraft  other  unknown  \n",
       "obj_cat                            \n",
       "1               0     62      132  \n",
       "2               0      9       28  \n",
       "3               0      0       11  \n",
       "4               0     29       17  \n",
       "5               0     17       14  \n",
       "6               0      0       25  \n",
       "7               0      0        0  \n",
       "8               0      0        0  \n",
       "9           19866      0        0  \n",
       "10              0  27589        0  \n",
       "11              0      0    34391  "
      ]
     },
     "execution_count": 11,
     "metadata": {},
     "output_type": "execute_result"
    }
   ],
   "source": [
    "images_metadata_df.groupby('obj_cat')[OBJ_LIST].sum() # w.r.t frames"
   ]
  },
  {
   "cell_type": "code",
   "execution_count": 12,
   "id": "basic-sport",
   "metadata": {},
   "outputs": [
    {
     "data": {
      "text/html": [
       "<div>\n",
       "<style scoped>\n",
       "    .dataframe tbody tr th:only-of-type {\n",
       "        vertical-align: middle;\n",
       "    }\n",
       "\n",
       "    .dataframe tbody tr th {\n",
       "        vertical-align: top;\n",
       "    }\n",
       "\n",
       "    .dataframe thead th {\n",
       "        text-align: right;\n",
       "    }\n",
       "</style>\n",
       "<table border=\"1\" class=\"dataframe\">\n",
       "  <thead>\n",
       "    <tr style=\"text-align: right;\">\n",
       "      <th></th>\n",
       "      <th>object</th>\n",
       "      <th>activity</th>\n",
       "    </tr>\n",
       "  </thead>\n",
       "  <tbody>\n",
       "    <tr>\n",
       "      <th>0</th>\n",
       "      <td></td>\n",
       "      <td>32061.0</td>\n",
       "    </tr>\n",
       "    <tr>\n",
       "      <th>1</th>\n",
       "      <td>17223.0</td>\n",
       "      <td>7893.0</td>\n",
       "    </tr>\n",
       "    <tr>\n",
       "      <th>2</th>\n",
       "      <td>5317.0</td>\n",
       "      <td>1222.0</td>\n",
       "    </tr>\n",
       "    <tr>\n",
       "      <th>3</th>\n",
       "      <td>3210.0</td>\n",
       "      <td>5607.0</td>\n",
       "    </tr>\n",
       "    <tr>\n",
       "      <th>4</th>\n",
       "      <td>8258.0</td>\n",
       "      <td>1018.0</td>\n",
       "    </tr>\n",
       "    <tr>\n",
       "      <th>5</th>\n",
       "      <td>7670.0</td>\n",
       "      <td>696.0</td>\n",
       "    </tr>\n",
       "    <tr>\n",
       "      <th>6</th>\n",
       "      <td>1456.0</td>\n",
       "      <td>623.0</td>\n",
       "    </tr>\n",
       "    <tr>\n",
       "      <th>7</th>\n",
       "      <td>67.0</td>\n",
       "      <td>135.0</td>\n",
       "    </tr>\n",
       "    <tr>\n",
       "      <th>8</th>\n",
       "      <td>1564.0</td>\n",
       "      <td></td>\n",
       "    </tr>\n",
       "    <tr>\n",
       "      <th>9</th>\n",
       "      <td>507.0</td>\n",
       "      <td></td>\n",
       "    </tr>\n",
       "    <tr>\n",
       "      <th>10</th>\n",
       "      <td>1339.0</td>\n",
       "      <td></td>\n",
       "    </tr>\n",
       "    <tr>\n",
       "      <th>11</th>\n",
       "      <td>2644.0</td>\n",
       "      <td></td>\n",
       "    </tr>\n",
       "  </tbody>\n",
       "</table>\n",
       "</div>"
      ],
      "text/plain": [
       "     object activity\n",
       "0            32061.0\n",
       "1   17223.0   7893.0\n",
       "2    5317.0   1222.0\n",
       "3    3210.0   5607.0\n",
       "4    8258.0   1018.0\n",
       "5    7670.0    696.0\n",
       "6    1456.0    623.0\n",
       "7      67.0    135.0\n",
       "8    1564.0         \n",
       "9     507.0         \n",
       "10   1339.0         \n",
       "11   2644.0         "
      ]
     },
     "execution_count": 12,
     "metadata": {},
     "output_type": "execute_result"
    }
   ],
   "source": [
    "pd.concat([images_metadata_df.groupby('obj_cat')['obj_id'].nunique().to_frame('object'),\n",
    "           images_metadata_df.groupby('activity_cat')['obj_id'].nunique().to_frame('activity')],\n",
    "          axis = 1).fillna(\"\") # w.r.t obj_id"
   ]
  },
  {
   "cell_type": "markdown",
   "id": "needed-width",
   "metadata": {},
   "source": [
    "### Problems"
   ]
  },
  {
   "cell_type": "markdown",
   "id": "ahead-marsh",
   "metadata": {},
   "source": [
    "**Q:** Any difference between cameras"
   ]
  },
  {
   "cell_type": "markdown",
   "id": "incorporated-choice",
   "metadata": {},
   "source": [
    "**Q:** What is the meaning of the suffix of day_dir"
   ]
  },
  {
   "cell_type": "markdown",
   "id": "second-clearance",
   "metadata": {},
   "source": [
    "**Q:** Most of the values of columns `bird` and `obj_cat_binary` are the same, while there exists some inconsistent records. Which column should we refer to? (w.r.t frames)"
   ]
  },
  {
   "cell_type": "code",
   "execution_count": 13,
   "id": "harmful-message",
   "metadata": {
    "scrolled": true
   },
   "outputs": [
    {
     "data": {
      "text/plain": [
       "array([ 1654,  1885,  2051,  2052,  7200, 10119, 10251, 10252, 10452,\n",
       "       10642, 10650, 15957, 20217, 20335, 20336, 20338, 20344, 20345,\n",
       "       20346, 20347, 20348, 23201, 24422, 26888, 31511, 33521, 34030,\n",
       "       36169, 44515, 46764, 46765, 46766, 46767, 46768, 46769, 46770,\n",
       "       46771, 47220, 47349, 48076, 48077, 48078, 48088, 48097, 48098,\n",
       "       48099, 48100, 48101, 48102, 48106, 48107, 48148, 48149, 48150,\n",
       "       48152, 48153, 48154, 48155, 48156, 48157, 48158, 48159, 48160,\n",
       "       48161, 48162, 48163, 48164, 48166])"
      ]
     },
     "execution_count": 13,
     "metadata": {},
     "output_type": "execute_result"
    }
   ],
   "source": [
    "images_metadata_df.loc[images_metadata_df['bird'] != images_metadata_df['obj_cat_binary'],'obj_id'].unique()"
   ]
  },
  {
   "cell_type": "markdown",
   "id": "specific-mongolia",
   "metadata": {},
   "source": [
    "**Q:** The activity classification seems not consistent within the data, which columns should we refer to? (w.r.t frames)\n",
    "\n",
    "P.S.  `activity_cat` and `obj_cat` were columns used in previous codes."
   ]
  },
  {
   "cell_type": "markdown",
   "id": "nearby-residence",
   "metadata": {},
   "source": [
    "**Q:** Some frame has more than one category"
   ]
  },
  {
   "cell_type": "code",
   "execution_count": 14,
   "id": "medieval-andorra",
   "metadata": {},
   "outputs": [
    {
     "name": "stdout",
     "output_type": "stream",
     "text": [
      "\n",
      "# records with more than one object actegories: 481\n",
      "# records with more than one activity actegories: 521567\n",
      "\n"
     ]
    }
   ],
   "source": [
    "print(\n",
    "f\"\"\"\n",
    "# records with more than one object actegories: {sum(images_metadata_df[OBJ_LIST].sum(axis = 1) != 1)}\n",
    "# records with more than one activity actegories: {sum(images_metadata_df[ACT_LIST].sum(axis = 1) != 1)}\n",
    "\"\"\"\n",
    ")"
   ]
  },
  {
   "cell_type": "markdown",
   "id": "resident-purple",
   "metadata": {},
   "source": [
    "# B. Visualization"
   ]
  },
  {
   "cell_type": "code",
   "execution_count": 15,
   "id": "unlikely-workplace",
   "metadata": {},
   "outputs": [],
   "source": [
    "id_ = 382"
   ]
  },
  {
   "cell_type": "code",
   "execution_count": 16,
   "id": "needed-diamond",
   "metadata": {},
   "outputs": [
    {
     "name": "stdout",
     "output_type": "stream",
     "text": [
      "1 : {'obj_cat': 11, 'activity_cat': 0}\n",
      "2 : {'obj_cat': 11, 'activity_cat': 0}\n",
      "3 : {'obj_cat': 11, 'activity_cat': 0}\n",
      "4 : {'obj_cat': 11, 'activity_cat': 0}\n",
      "5 : {'obj_cat': 11, 'activity_cat': 0}\n",
      "6 : {'obj_cat': 11, 'activity_cat': 0}\n",
      "7 : {'obj_cat': 11, 'activity_cat': 0}\n",
      "8 : {'obj_cat': 11, 'activity_cat': 0}\n",
      "9 : {'obj_cat': 11, 'activity_cat': 0}\n",
      "10 : {'obj_cat': 11, 'activity_cat': 0}\n",
      "11 : {'obj_cat': 11, 'activity_cat': 0}\n"
     ]
    },
    {
     "data": {
      "text/html": [
       "<img src=\"img/382.gif\"/>"
      ],
      "text/plain": [
       "<IPython.core.display.Image object>"
      ]
     },
     "execution_count": 16,
     "metadata": {},
     "output_type": "execute_result"
    },
    {
     "data": {
      "image/png": "[encoded data removed]",
      "text/plain": [
       "<Figure size 936x720 with 11 Axes>"
      ]
     },
     "metadata": {
      "needs_background": "light"
     },
     "output_type": "display_data"
    }
   ],
   "source": [
    "img_df = images_metadata_df.loc[images_metadata_df.obj_id == id_]\n",
    "num_images = len(img_df)\n",
    "num_rows_figure = math.ceil(num_images / 4)\n",
    "\n",
    "image_gif = []\n",
    "plt.figure(figsize = [13,10])\n",
    "for i, idx in enumerate(img_df.index):\n",
    "    row = img_df.loc[idx]\n",
    "    print(i+1, \":\",row[['obj_cat','activity_cat']].to_dict())\n",
    "    plt.subplot(3,4,i+1)\n",
    "    plt.title(i+1)\n",
    "    \n",
    "    img = image.load(getImagePath(row))\n",
    "    img = image.unit8Img(img)\n",
    "    \n",
    "    image_gif.append(img)\n",
    "    plt.imshow(np.array(img))\n",
    "\n",
    "gif_path =  f'img/{id_}.gif'\n",
    "image.generateGIF(image_gif, gif_path)\n",
    "IPython.display.Image(url=gif_path)"
   ]
  },
  {
   "cell_type": "code",
   "execution_count": null,
   "id": "treated-health",
   "metadata": {},
   "outputs": [],
   "source": [
    "os._exit(0)"
   ]
  }
 ],
 "metadata": {
  "kernelspec": {
   "display_name": "Python 3",
   "language": "python",
   "name": "python3"
  },
  "language_info": {
   "codemirror_mode": {
    "name": "ipython",
    "version": 3
   },
   "file_extension": ".py",
   "mimetype": "text/x-python",
   "name": "python",
   "nbconvert_exporter": "python",
   "pygments_lexer": "ipython3",
   "version": "3.8.3"
  }
 },
 "nbformat": 4,
 "nbformat_minor": 5
}

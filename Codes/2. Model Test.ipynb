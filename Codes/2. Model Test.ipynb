{
 "cells": [
  {
   "cell_type": "code",
   "execution_count": 1,
   "id": "express-ozone",
   "metadata": {},
   "outputs": [
    {
     "data": {
      "text/plain": [
       "<module 'model' from '/home/mlpan/Courses/Capstone-Birds-Action-Recognition/Codes/model.py'>"
      ]
     },
     "execution_count": 1,
     "metadata": {},
     "output_type": "execute_result"
    }
   ],
   "source": [
    "import sys\n",
    "# import mkl\n",
    "# mkl.set_num_threads(30)\n",
    "\n",
    "import os\n",
    "import imp\n",
    "\n",
    "import numpy as np\n",
    "import pandas as pd\n",
    "import tensorflow as tf\n",
    "from tensorflow import keras\n",
    "import tensorflow_hub as hub\n",
    "\n",
    "import math\n",
    "\n",
    "import matplotlib.pyplot as plt\n",
    "import matplotlib.image as mpimg\n",
    "import seaborn as sns\n",
    "\n",
    "from sklearn.metrics import accuracy_score, confusion_matrix\n",
    "from sklearn.model_selection import train_test_split\n",
    "\n",
    "import utils\n",
    "import config\n",
    "import image\n",
    "import dataset\n",
    "import model\n",
    "\n",
    "from collections import defaultdict\n",
    "from tqdm import tqdm\n",
    "\n",
    "\n",
    "imp.reload(config)\n",
    "imp.reload(image)\n",
    "imp.reload(utils)\n",
    "imp.reload(dataset)\n",
    "imp.reload(model)"
   ]
  },
  {
   "cell_type": "code",
   "execution_count": 2,
   "id": "reported-watershed",
   "metadata": {},
   "outputs": [
    {
     "data": {
      "text/plain": [
       "[PhysicalDevice(name='/physical_device:GPU:0', device_type='GPU')]"
      ]
     },
     "execution_count": 2,
     "metadata": {},
     "output_type": "execute_result"
    }
   ],
   "source": [
    "tf.config.list_physical_devices('GPU')"
   ]
  },
  {
   "cell_type": "markdown",
   "id": "precise-fairy",
   "metadata": {},
   "source": [
    "## Problems"
   ]
  },
  {
   "cell_type": "markdown",
   "id": "ongoing-approval",
   "metadata": {},
   "source": [
    "1. When we acquire more than one GPU, tensorflow cannot work.\n",
    "2. I/O slow\n",
    "3. When setting exclusive for one node, we may have 2 CPU (16 threading for each). How much we could actually use to avoid OOM? Or how to test it?\n",
    "4. Warnings?\n",
    "5. in tensorboard, no learning curve\n",
    "6. Is that a proper way to use fine-tune?"
   ]
  },
  {
   "cell_type": "markdown",
   "id": "genuine-recording",
   "metadata": {},
   "source": [
    "## Train, Test, Validation Overview"
   ]
  },
  {
   "cell_type": "code",
   "execution_count": 3,
   "id": "earned-bracelet",
   "metadata": {},
   "outputs": [],
   "source": [
    "images_metadata_df = dataset.load_images_metadata()\n",
    "images_metadata_birds_df = images_metadata_df.loc[images_metadata_df['obj_cat_binary']==1].sample(frac = 1, random_state = 42)\n",
    "\n",
    "images_metadata_dict = dataset.load_images_metadata_dict(images_metadata_birds_df)\n",
    "\n",
    "dict_dataset = {'train':dict(), 'valid':dict(), 'test':dict()}\n",
    "for obj_id, obj_info in images_metadata_dict.items():\n",
    "    ttv_split = obj_info['ttv_split']\n",
    "    if ttv_split == 1: dict_dataset['train'][obj_id] = obj_info\n",
    "    elif ttv_split == 2: dict_dataset['valid'][obj_id] = obj_info\n",
    "    elif ttv_split == 3: dict_dataset['test'][obj_id] = obj_info\n",
    "    else: raise ValueError()\n",
    "        \n",
    "        \n"
   ]
  },
  {
   "cell_type": "code",
   "execution_count": 4,
   "id": "caroline-concern",
   "metadata": {},
   "outputs": [
    {
     "data": {
      "text/plain": [
       "49255"
      ]
     },
     "execution_count": 4,
     "metadata": {},
     "output_type": "execute_result"
    }
   ],
   "source": [
    "len(images_metadata_df['obj_id'].unique())"
   ]
  },
  {
   "cell_type": "code",
   "execution_count": 5,
   "id": "formed-finder",
   "metadata": {},
   "outputs": [
    {
     "data": {
      "text/plain": [
       "17155"
      ]
     },
     "execution_count": 5,
     "metadata": {},
     "output_type": "execute_result"
    }
   ],
   "source": [
    "len(images_metadata_birds_df['obj_id'].unique())"
   ]
  },
  {
   "cell_type": "code",
   "execution_count": 6,
   "id": "julian-glasgow",
   "metadata": {},
   "outputs": [
    {
     "data": {
      "text/plain": [
       "{'train': 12005, 'valid': 2576, 'test': 2574}"
      ]
     },
     "execution_count": 6,
     "metadata": {},
     "output_type": "execute_result"
    }
   ],
   "source": [
    "{key:len(value) for key,value in dict_dataset.items()}"
   ]
  },
  {
   "cell_type": "code",
   "execution_count": 7,
   "id": "jewish-panama",
   "metadata": {},
   "outputs": [],
   "source": [
    "tf_dataset = {key:tf.data.Dataset.from_generator(lambda :dataset.generator_dataset_activity(value), \n",
    "                                       output_types= config.DATASET_TYPE,\n",
    "                                       output_shapes = config.DATASET_SHAPE) \n",
    "              for key,value in dict_dataset.items()}\n",
    "\n",
    "tf_dataset = {key:dataset.configure_for_performance(value) for key,value in tf_dataset.items()}\n",
    "\n",
    "del images_metadata_df\n",
    "del images_metadata_birds_df  "
   ]
  },
  {
   "cell_type": "code",
   "execution_count": null,
   "id": "final-nomination",
   "metadata": {},
   "outputs": [
    {
     "name": "stdout",
     "output_type": "stream",
     "text": [
      "WARNING:tensorflow:AutoGraph could not transform <bound method KerasLayer.call of <tensorflow_hub.keras_layer.KerasLayer object at 0x7f1d317d4850>> and will run it as-is.\n",
      "Please report this to the TensorFlow team. When filing the bug, set the verbosity to 10 (on Linux, `export AUTOGRAPH_VERBOSITY=10`) and attach the full output.\n",
      "Cause: module 'gast' has no attribute 'Index'\n",
      "To silence this warning, decorate the function with @tf.autograph.experimental.do_not_convert\n",
      "WARNING: AutoGraph could not transform <bound method KerasLayer.call of <tensorflow_hub.keras_layer.KerasLayer object at 0x7f1d317d4850>> and will run it as-is.\n",
      "Please report this to the TensorFlow team. When filing the bug, set the verbosity to 10 (on Linux, `export AUTOGRAPH_VERBOSITY=10`) and attach the full output.\n",
      "Cause: module 'gast' has no attribute 'Index'\n",
      "To silence this warning, decorate the function with @tf.autograph.experimental.do_not_convert\n",
      "WARNING:tensorflow:Model failed to serialize as JSON. Ignoring... Can only generate a valid config for `hub.KerasLayer(handle, ...)`that uses a string `handle`.\n",
      "\n",
      "Got `type(handle)`: <class 'tensorflow.python.eager.wrap_function.WrappedFunction'>\n",
      "Epoch 1/10\n",
      "161/751 [=====>........................] - ETA: 1:21:41 - loss: 1.7669 - accuracy: 0.5544"
     ]
    }
   ],
   "source": [
    "i3d_model = model.build_model_i3d()\n",
    "\n",
    "i3d_model.compile(\n",
    "    optimizer =keras.optimizers.Nadam(lr = 1e-3),\n",
    "    loss = 'sparse_categorical_crossentropy',\n",
    "    metrics = ['accuracy']\n",
    ")\n",
    "\n",
    "\n",
    "i3d_model.fit(\n",
    "    tf_dataset['train'],\n",
    "    epochs=10,\n",
    "    batch_size=config.BATCH_SIZE,\n",
    "    steps_per_epoch = len(dict_dataset['train']) // config.BATCH_SIZE + 1,\n",
    "    validation_data=tf_dataset['valid'],\n",
    "    callbacks = [\n",
    "                 keras.callbacks.EarlyStopping(patience = 2, restore_best_weights = True, monitor = 'val_accuracy'),\n",
    "                 keras.callbacks.ModelCheckpoint(\"i3d_ft.h5\", save_best_only=True), \n",
    "                 keras.callbacks.TensorBoard(utils.get_run_logdir(log_name = 'i3d_ft'))\n",
    "             ]\n",
    ")"
   ]
  },
  {
   "cell_type": "code",
   "execution_count": null,
   "id": "disciplinary-theme",
   "metadata": {},
   "outputs": [],
   "source": [
    "i3d_model_dropout = model.build_model_i3d_dropout()\n",
    "i3d_model_dropout.compile(\n",
    "    optimizer =keras.optimizers.Nadam(lr = 1e-3),\n",
    "    loss = 'sparse_categorical_crossentropy',\n",
    "    metrics = ['accuracy']\n",
    ")\n",
    "\n",
    "i3d_model_dropout.fit(\n",
    "    tf_dataset['train'],\n",
    "    epochs=10,\n",
    "    batch_size=config.BATCH_SIZE,\n",
    "    steps_per_epoch = len(dict_dataset['train']) // config.BATCH_SIZE + 1,\n",
    "    validation_data=tf_dataset['valid'],\n",
    "    callbacks = [\n",
    "                 keras.callbacks.EarlyStopping(patience = 2, restore_best_weights = True, monitor = 'val_accuracy'),\n",
    "                 keras.callbacks.ModelCheckpoint(\"i3d_dropout_ft.h5\", save_best_only=True), \n",
    "                 keras.callbacks.TensorBoard(utils.get_run_logdir(log_name = 'i3d_dropout_ft'))\n",
    "             ]\n",
    ")"
   ]
  },
  {
   "cell_type": "code",
   "execution_count": null,
   "id": "boolean-chick",
   "metadata": {},
   "outputs": [],
   "source": [
    "from numba import cuda \n",
    "device = cuda.get_current_device()\n",
    "device.reset()"
   ]
  },
  {
   "cell_type": "code",
   "execution_count": 9,
   "id": "facial-stage",
   "metadata": {},
   "outputs": [
    {
     "name": "stdout",
     "output_type": "stream",
     "text": [
      "The tensorboard extension is already loaded. To reload it, use:\n",
      "  %reload_ext tensorboard\n"
     ]
    },
    {
     "data": {
      "text/html": [
       "\n",
       "      <iframe id=\"tensorboard-frame-48b495884141d27e\" width=\"100%\" height=\"800\" frameborder=\"0\">\n",
       "      </iframe>\n",
       "      <script>\n",
       "        (function() {\n",
       "          const frame = document.getElementById(\"tensorboard-frame-48b495884141d27e\");\n",
       "          const url = new URL(\"/\", window.location);\n",
       "          const port = 6012;\n",
       "          if (port) {\n",
       "            url.port = port;\n",
       "          }\n",
       "          frame.src = url;\n",
       "        })();\n",
       "      </script>\n",
       "    "
      ],
      "text/plain": [
       "<IPython.core.display.HTML object>"
      ]
     },
     "metadata": {},
     "output_type": "display_data"
    }
   ],
   "source": [
    "%load_ext tensorboard\n",
    "%tensorboard --logdir=./logs --port=6012 --host=0.0.0.0"
   ]
  },
  {
   "cell_type": "code",
   "execution_count": null,
   "id": "italian-collins",
   "metadata": {},
   "outputs": [],
   "source": []
  }
 ],
 "metadata": {
  "kernelspec": {
   "display_name": "Python 3",
   "language": "python",
   "name": "python3"
  },
  "language_info": {
   "codemirror_mode": {
    "name": "ipython",
    "version": 3
   },
   "file_extension": ".py",
   "mimetype": "text/x-python",
   "name": "python",
   "nbconvert_exporter": "python",
   "pygments_lexer": "ipython3",
   "version": "3.8.3"
  }
 },
 "nbformat": 4,
 "nbformat_minor": 5
}
